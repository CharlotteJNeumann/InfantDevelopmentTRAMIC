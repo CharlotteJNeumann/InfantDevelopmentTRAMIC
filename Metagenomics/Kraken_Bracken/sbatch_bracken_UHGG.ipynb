{
 "cells": [
  {
   "cell_type": "code",
   "execution_count": 10,
   "id": "d00241e3-bd3b-43da-8649-0201077d8968",
   "metadata": {},
   "outputs": [
    {
     "name": "stdout",
     "output_type": "stream",
     "text": [
      "SRR7658579_report.out\n"
     ]
    },
    {
     "name": "stderr",
     "output_type": "stream",
     "text": [
      "rm: cannot remove '/home/gpfs/o_kumpitch/05_LosingArchaea/00_data/01_PRJNA485056_PRJNA504891/00_BRACKEN/01_batch1/02_UHGG/07_species/bash_scripts/SRR7658579_report.out.bash': No such file or directory\n"
     ]
    },
    {
     "name": "stdout",
     "output_type": "stream",
     "text": [
      "Submitted batch job 1106984\n",
      "SRR7658580_report.out\n"
     ]
    },
    {
     "name": "stderr",
     "output_type": "stream",
     "text": [
      "rm: cannot remove '/home/gpfs/o_kumpitch/05_LosingArchaea/00_data/01_PRJNA485056_PRJNA504891/00_BRACKEN/01_batch1/02_UHGG/07_species/bash_scripts/SRR7658580_report.out.bash': No such file or directory\n"
     ]
    },
    {
     "name": "stdout",
     "output_type": "stream",
     "text": [
      "Submitted batch job 1106985\n",
      "SRR7658581_report.out\n"
     ]
    },
    {
     "name": "stderr",
     "output_type": "stream",
     "text": [
      "rm: cannot remove '/home/gpfs/o_kumpitch/05_LosingArchaea/00_data/01_PRJNA485056_PRJNA504891/00_BRACKEN/01_batch1/02_UHGG/07_species/bash_scripts/SRR7658581_report.out.bash': No such file or directory\n"
     ]
    },
    {
     "name": "stdout",
     "output_type": "stream",
     "text": [
      "Submitted batch job 1106986\n",
      "SRR7658582_report.out\n"
     ]
    },
    {
     "name": "stderr",
     "output_type": "stream",
     "text": [
      "rm: cannot remove '/home/gpfs/o_kumpitch/05_LosingArchaea/00_data/01_PRJNA485056_PRJNA504891/00_BRACKEN/01_batch1/02_UHGG/07_species/bash_scripts/SRR7658582_report.out.bash': No such file or directory\n"
     ]
    },
    {
     "name": "stdout",
     "output_type": "stream",
     "text": [
      "Submitted batch job 1106987\n",
      "SRR7658583_report.out\n"
     ]
    },
    {
     "name": "stderr",
     "output_type": "stream",
     "text": [
      "rm: cannot remove '/home/gpfs/o_kumpitch/05_LosingArchaea/00_data/01_PRJNA485056_PRJNA504891/00_BRACKEN/01_batch1/02_UHGG/07_species/bash_scripts/SRR7658583_report.out.bash': No such file or directory\n"
     ]
    },
    {
     "name": "stdout",
     "output_type": "stream",
     "text": [
      "Submitted batch job 1106988\n",
      "SRR7658584_report.out\n"
     ]
    },
    {
     "name": "stderr",
     "output_type": "stream",
     "text": [
      "rm: cannot remove '/home/gpfs/o_kumpitch/05_LosingArchaea/00_data/01_PRJNA485056_PRJNA504891/00_BRACKEN/01_batch1/02_UHGG/07_species/bash_scripts/SRR7658584_report.out.bash': No such file or directory\n"
     ]
    },
    {
     "name": "stdout",
     "output_type": "stream",
     "text": [
      "Submitted batch job 1106989\n",
      "SRR7658585_report.out\n"
     ]
    },
    {
     "name": "stderr",
     "output_type": "stream",
     "text": [
      "rm: cannot remove '/home/gpfs/o_kumpitch/05_LosingArchaea/00_data/01_PRJNA485056_PRJNA504891/00_BRACKEN/01_batch1/02_UHGG/07_species/bash_scripts/SRR7658585_report.out.bash': No such file or directory\n"
     ]
    },
    {
     "name": "stdout",
     "output_type": "stream",
     "text": [
      "Submitted batch job 1106990\n",
      "SRR7658586_report.out\n"
     ]
    },
    {
     "name": "stderr",
     "output_type": "stream",
     "text": [
      "rm: cannot remove '/home/gpfs/o_kumpitch/05_LosingArchaea/00_data/01_PRJNA485056_PRJNA504891/00_BRACKEN/01_batch1/02_UHGG/07_species/bash_scripts/SRR7658586_report.out.bash': No such file or directory\n"
     ]
    },
    {
     "name": "stdout",
     "output_type": "stream",
     "text": [
      "Submitted batch job 1106991\n",
      "SRR7658587_report.out\n"
     ]
    },
    {
     "name": "stderr",
     "output_type": "stream",
     "text": [
      "rm: cannot remove '/home/gpfs/o_kumpitch/05_LosingArchaea/00_data/01_PRJNA485056_PRJNA504891/00_BRACKEN/01_batch1/02_UHGG/07_species/bash_scripts/SRR7658587_report.out.bash': No such file or directory\n"
     ]
    },
    {
     "name": "stdout",
     "output_type": "stream",
     "text": [
      "Submitted batch job 1106992\n",
      "SRR7658588_report.out\n"
     ]
    },
    {
     "name": "stderr",
     "output_type": "stream",
     "text": [
      "rm: cannot remove '/home/gpfs/o_kumpitch/05_LosingArchaea/00_data/01_PRJNA485056_PRJNA504891/00_BRACKEN/01_batch1/02_UHGG/07_species/bash_scripts/SRR7658588_report.out.bash': No such file or directory\n"
     ]
    },
    {
     "name": "stdout",
     "output_type": "stream",
     "text": [
      "Submitted batch job 1106993\n",
      "SRR7658589_report.out\n"
     ]
    },
    {
     "name": "stderr",
     "output_type": "stream",
     "text": [
      "rm: cannot remove '/home/gpfs/o_kumpitch/05_LosingArchaea/00_data/01_PRJNA485056_PRJNA504891/00_BRACKEN/01_batch1/02_UHGG/07_species/bash_scripts/SRR7658589_report.out.bash': No such file or directory\n"
     ]
    },
    {
     "name": "stdout",
     "output_type": "stream",
     "text": [
      "Submitted batch job 1106994\n",
      "SRR7658590_report.out\n"
     ]
    },
    {
     "name": "stderr",
     "output_type": "stream",
     "text": [
      "rm: cannot remove '/home/gpfs/o_kumpitch/05_LosingArchaea/00_data/01_PRJNA485056_PRJNA504891/00_BRACKEN/01_batch1/02_UHGG/07_species/bash_scripts/SRR7658590_report.out.bash': No such file or directory\n"
     ]
    },
    {
     "name": "stdout",
     "output_type": "stream",
     "text": [
      "Submitted batch job 1106995\n",
      "SRR7658591_report.out\n"
     ]
    },
    {
     "name": "stderr",
     "output_type": "stream",
     "text": [
      "rm: cannot remove '/home/gpfs/o_kumpitch/05_LosingArchaea/00_data/01_PRJNA485056_PRJNA504891/00_BRACKEN/01_batch1/02_UHGG/07_species/bash_scripts/SRR7658591_report.out.bash': No such file or directory\n"
     ]
    },
    {
     "name": "stdout",
     "output_type": "stream",
     "text": [
      "Submitted batch job 1106996\n",
      "SRR7658592_report.out\n"
     ]
    },
    {
     "name": "stderr",
     "output_type": "stream",
     "text": [
      "rm: cannot remove '/home/gpfs/o_kumpitch/05_LosingArchaea/00_data/01_PRJNA485056_PRJNA504891/00_BRACKEN/01_batch1/02_UHGG/07_species/bash_scripts/SRR7658592_report.out.bash': No such file or directory\n"
     ]
    },
    {
     "name": "stdout",
     "output_type": "stream",
     "text": [
      "Submitted batch job 1106997\n",
      "SRR7658593_report.out\n"
     ]
    },
    {
     "name": "stderr",
     "output_type": "stream",
     "text": [
      "rm: cannot remove '/home/gpfs/o_kumpitch/05_LosingArchaea/00_data/01_PRJNA485056_PRJNA504891/00_BRACKEN/01_batch1/02_UHGG/07_species/bash_scripts/SRR7658593_report.out.bash': No such file or directory\n"
     ]
    },
    {
     "name": "stdout",
     "output_type": "stream",
     "text": [
      "Submitted batch job 1106998\n",
      "SRR7658594_report.out\n"
     ]
    },
    {
     "name": "stderr",
     "output_type": "stream",
     "text": [
      "rm: cannot remove '/home/gpfs/o_kumpitch/05_LosingArchaea/00_data/01_PRJNA485056_PRJNA504891/00_BRACKEN/01_batch1/02_UHGG/07_species/bash_scripts/SRR7658594_report.out.bash': No such file or directory\n"
     ]
    },
    {
     "name": "stdout",
     "output_type": "stream",
     "text": [
      "Submitted batch job 1106999\n",
      "SRR7658595_report.out\n"
     ]
    },
    {
     "name": "stderr",
     "output_type": "stream",
     "text": [
      "rm: cannot remove '/home/gpfs/o_kumpitch/05_LosingArchaea/00_data/01_PRJNA485056_PRJNA504891/00_BRACKEN/01_batch1/02_UHGG/07_species/bash_scripts/SRR7658595_report.out.bash': No such file or directory\n"
     ]
    },
    {
     "name": "stdout",
     "output_type": "stream",
     "text": [
      "Submitted batch job 1107000\n",
      "SRR7658596_report.out\n"
     ]
    },
    {
     "name": "stderr",
     "output_type": "stream",
     "text": [
      "rm: cannot remove '/home/gpfs/o_kumpitch/05_LosingArchaea/00_data/01_PRJNA485056_PRJNA504891/00_BRACKEN/01_batch1/02_UHGG/07_species/bash_scripts/SRR7658596_report.out.bash': No such file or directory\n"
     ]
    },
    {
     "name": "stdout",
     "output_type": "stream",
     "text": [
      "Submitted batch job 1107001\n",
      "SRR7658597_report.out\n"
     ]
    },
    {
     "name": "stderr",
     "output_type": "stream",
     "text": [
      "rm: cannot remove '/home/gpfs/o_kumpitch/05_LosingArchaea/00_data/01_PRJNA485056_PRJNA504891/00_BRACKEN/01_batch1/02_UHGG/07_species/bash_scripts/SRR7658597_report.out.bash': No such file or directory\n"
     ]
    },
    {
     "name": "stdout",
     "output_type": "stream",
     "text": [
      "Submitted batch job 1107002\n",
      "SRR7658598_report.out\n"
     ]
    },
    {
     "name": "stderr",
     "output_type": "stream",
     "text": [
      "rm: cannot remove '/home/gpfs/o_kumpitch/05_LosingArchaea/00_data/01_PRJNA485056_PRJNA504891/00_BRACKEN/01_batch1/02_UHGG/07_species/bash_scripts/SRR7658598_report.out.bash': No such file or directory\n"
     ]
    },
    {
     "name": "stdout",
     "output_type": "stream",
     "text": [
      "Submitted batch job 1107003\n",
      "SRR7658599_report.out\n"
     ]
    },
    {
     "name": "stderr",
     "output_type": "stream",
     "text": [
      "rm: cannot remove '/home/gpfs/o_kumpitch/05_LosingArchaea/00_data/01_PRJNA485056_PRJNA504891/00_BRACKEN/01_batch1/02_UHGG/07_species/bash_scripts/SRR7658599_report.out.bash': No such file or directory\n"
     ]
    },
    {
     "name": "stdout",
     "output_type": "stream",
     "text": [
      "Submitted batch job 1107004\n",
      "SRR7658600_report.out\n"
     ]
    },
    {
     "name": "stderr",
     "output_type": "stream",
     "text": [
      "rm: cannot remove '/home/gpfs/o_kumpitch/05_LosingArchaea/00_data/01_PRJNA485056_PRJNA504891/00_BRACKEN/01_batch1/02_UHGG/07_species/bash_scripts/SRR7658600_report.out.bash': No such file or directory\n"
     ]
    },
    {
     "name": "stdout",
     "output_type": "stream",
     "text": [
      "Submitted batch job 1107005\n",
      "SRR7658601_report.out\n"
     ]
    },
    {
     "name": "stderr",
     "output_type": "stream",
     "text": [
      "rm: cannot remove '/home/gpfs/o_kumpitch/05_LosingArchaea/00_data/01_PRJNA485056_PRJNA504891/00_BRACKEN/01_batch1/02_UHGG/07_species/bash_scripts/SRR7658601_report.out.bash': No such file or directory\n"
     ]
    },
    {
     "name": "stdout",
     "output_type": "stream",
     "text": [
      "Submitted batch job 1107006\n",
      "SRR7658602_report.out\n"
     ]
    },
    {
     "name": "stderr",
     "output_type": "stream",
     "text": [
      "rm: cannot remove '/home/gpfs/o_kumpitch/05_LosingArchaea/00_data/01_PRJNA485056_PRJNA504891/00_BRACKEN/01_batch1/02_UHGG/07_species/bash_scripts/SRR7658602_report.out.bash': No such file or directory\n"
     ]
    },
    {
     "name": "stdout",
     "output_type": "stream",
     "text": [
      "Submitted batch job 1107007\n",
      "SRR7658603_report.out\n"
     ]
    },
    {
     "name": "stderr",
     "output_type": "stream",
     "text": [
      "rm: cannot remove '/home/gpfs/o_kumpitch/05_LosingArchaea/00_data/01_PRJNA485056_PRJNA504891/00_BRACKEN/01_batch1/02_UHGG/07_species/bash_scripts/SRR7658603_report.out.bash': No such file or directory\n"
     ]
    },
    {
     "name": "stdout",
     "output_type": "stream",
     "text": [
      "Submitted batch job 1107008\n",
      "SRR7658604_report.out\n"
     ]
    },
    {
     "name": "stderr",
     "output_type": "stream",
     "text": [
      "rm: cannot remove '/home/gpfs/o_kumpitch/05_LosingArchaea/00_data/01_PRJNA485056_PRJNA504891/00_BRACKEN/01_batch1/02_UHGG/07_species/bash_scripts/SRR7658604_report.out.bash': No such file or directory\n"
     ]
    },
    {
     "name": "stdout",
     "output_type": "stream",
     "text": [
      "Submitted batch job 1107009\n",
      "SRR7658605_report.out\n"
     ]
    },
    {
     "name": "stderr",
     "output_type": "stream",
     "text": [
      "rm: cannot remove '/home/gpfs/o_kumpitch/05_LosingArchaea/00_data/01_PRJNA485056_PRJNA504891/00_BRACKEN/01_batch1/02_UHGG/07_species/bash_scripts/SRR7658605_report.out.bash': No such file or directory\n"
     ]
    },
    {
     "name": "stdout",
     "output_type": "stream",
     "text": [
      "Submitted batch job 1107010\n",
      "SRR7658606_report.out\n"
     ]
    },
    {
     "name": "stderr",
     "output_type": "stream",
     "text": [
      "rm: cannot remove '/home/gpfs/o_kumpitch/05_LosingArchaea/00_data/01_PRJNA485056_PRJNA504891/00_BRACKEN/01_batch1/02_UHGG/07_species/bash_scripts/SRR7658606_report.out.bash': No such file or directory\n"
     ]
    },
    {
     "name": "stdout",
     "output_type": "stream",
     "text": [
      "Submitted batch job 1107011\n",
      "SRR7658607_report.out\n"
     ]
    },
    {
     "name": "stderr",
     "output_type": "stream",
     "text": [
      "rm: cannot remove '/home/gpfs/o_kumpitch/05_LosingArchaea/00_data/01_PRJNA485056_PRJNA504891/00_BRACKEN/01_batch1/02_UHGG/07_species/bash_scripts/SRR7658607_report.out.bash': No such file or directory\n"
     ]
    },
    {
     "name": "stdout",
     "output_type": "stream",
     "text": [
      "Submitted batch job 1107012\n",
      "SRR7658608_report.out\n"
     ]
    },
    {
     "name": "stderr",
     "output_type": "stream",
     "text": [
      "rm: cannot remove '/home/gpfs/o_kumpitch/05_LosingArchaea/00_data/01_PRJNA485056_PRJNA504891/00_BRACKEN/01_batch1/02_UHGG/07_species/bash_scripts/SRR7658608_report.out.bash': No such file or directory\n"
     ]
    },
    {
     "name": "stdout",
     "output_type": "stream",
     "text": [
      "Submitted batch job 1107013\n",
      "SRR7658609_report.out\n"
     ]
    },
    {
     "name": "stderr",
     "output_type": "stream",
     "text": [
      "rm: cannot remove '/home/gpfs/o_kumpitch/05_LosingArchaea/00_data/01_PRJNA485056_PRJNA504891/00_BRACKEN/01_batch1/02_UHGG/07_species/bash_scripts/SRR7658609_report.out.bash': No such file or directory\n"
     ]
    },
    {
     "name": "stdout",
     "output_type": "stream",
     "text": [
      "Submitted batch job 1107014\n",
      "SRR7658610_report.out\n"
     ]
    },
    {
     "name": "stderr",
     "output_type": "stream",
     "text": [
      "rm: cannot remove '/home/gpfs/o_kumpitch/05_LosingArchaea/00_data/01_PRJNA485056_PRJNA504891/00_BRACKEN/01_batch1/02_UHGG/07_species/bash_scripts/SRR7658610_report.out.bash': No such file or directory\n"
     ]
    },
    {
     "name": "stdout",
     "output_type": "stream",
     "text": [
      "Submitted batch job 1107015\n",
      "SRR7658611_report.out\n"
     ]
    },
    {
     "name": "stderr",
     "output_type": "stream",
     "text": [
      "rm: cannot remove '/home/gpfs/o_kumpitch/05_LosingArchaea/00_data/01_PRJNA485056_PRJNA504891/00_BRACKEN/01_batch1/02_UHGG/07_species/bash_scripts/SRR7658611_report.out.bash': No such file or directory\n"
     ]
    },
    {
     "name": "stdout",
     "output_type": "stream",
     "text": [
      "Submitted batch job 1107016\n",
      "SRR7658612_report.out\n"
     ]
    },
    {
     "name": "stderr",
     "output_type": "stream",
     "text": [
      "rm: cannot remove '/home/gpfs/o_kumpitch/05_LosingArchaea/00_data/01_PRJNA485056_PRJNA504891/00_BRACKEN/01_batch1/02_UHGG/07_species/bash_scripts/SRR7658612_report.out.bash': No such file or directory\n"
     ]
    },
    {
     "name": "stdout",
     "output_type": "stream",
     "text": [
      "Submitted batch job 1107017\n",
      "SRR7658613_report.out\n"
     ]
    },
    {
     "name": "stderr",
     "output_type": "stream",
     "text": [
      "rm: cannot remove '/home/gpfs/o_kumpitch/05_LosingArchaea/00_data/01_PRJNA485056_PRJNA504891/00_BRACKEN/01_batch1/02_UHGG/07_species/bash_scripts/SRR7658613_report.out.bash': No such file or directory\n"
     ]
    },
    {
     "name": "stdout",
     "output_type": "stream",
     "text": [
      "Submitted batch job 1107018\n",
      "SRR7658614_report.out\n"
     ]
    },
    {
     "name": "stderr",
     "output_type": "stream",
     "text": [
      "rm: cannot remove '/home/gpfs/o_kumpitch/05_LosingArchaea/00_data/01_PRJNA485056_PRJNA504891/00_BRACKEN/01_batch1/02_UHGG/07_species/bash_scripts/SRR7658614_report.out.bash': No such file or directory\n"
     ]
    },
    {
     "name": "stdout",
     "output_type": "stream",
     "text": [
      "Submitted batch job 1107019\n",
      "SRR7658615_report.out\n"
     ]
    },
    {
     "name": "stderr",
     "output_type": "stream",
     "text": [
      "rm: cannot remove '/home/gpfs/o_kumpitch/05_LosingArchaea/00_data/01_PRJNA485056_PRJNA504891/00_BRACKEN/01_batch1/02_UHGG/07_species/bash_scripts/SRR7658615_report.out.bash': No such file or directory\n"
     ]
    },
    {
     "name": "stdout",
     "output_type": "stream",
     "text": [
      "Submitted batch job 1107020\n",
      "SRR7658616_report.out\n"
     ]
    },
    {
     "name": "stderr",
     "output_type": "stream",
     "text": [
      "rm: cannot remove '/home/gpfs/o_kumpitch/05_LosingArchaea/00_data/01_PRJNA485056_PRJNA504891/00_BRACKEN/01_batch1/02_UHGG/07_species/bash_scripts/SRR7658616_report.out.bash': No such file or directory\n"
     ]
    },
    {
     "name": "stdout",
     "output_type": "stream",
     "text": [
      "Submitted batch job 1107021\n",
      "SRR7658617_report.out\n"
     ]
    },
    {
     "name": "stderr",
     "output_type": "stream",
     "text": [
      "rm: cannot remove '/home/gpfs/o_kumpitch/05_LosingArchaea/00_data/01_PRJNA485056_PRJNA504891/00_BRACKEN/01_batch1/02_UHGG/07_species/bash_scripts/SRR7658617_report.out.bash': No such file or directory\n"
     ]
    },
    {
     "name": "stdout",
     "output_type": "stream",
     "text": [
      "Submitted batch job 1107022\n"
     ]
    }
   ],
   "source": [
    "%%bash\n",
    "\n",
    "#################################################################################################\n",
    "# working directory\n",
    "W_DIR=\"/home/gpfs/o_kumpitch/05_LosingArchaea/00_data/01_PRJNA485056_PRJNA504891/\" \n",
    "\n",
    "# input directory\n",
    "#I_DIR=$W_DIR\"Data/\" \n",
    "I_DIR=/home/gpfs/o_kumpitch/05_LosingArchaea/00_data/01_PRJNA485056_PRJNA504891/000_KRAKEN2/01_batch1/02_UGHH_pe/main_output/\n",
    "# name of the output directory\n",
    "#NAME=\"Results\" \n",
    "NAME=\"00_BRACKEN/01_batch1/02_UHGG/07_species\"\n",
    "\n",
    "#create output directories\n",
    "mkdir $W_DIR$NAME\n",
    "mkdir $W_DIR$NAME'/main_output'\n",
    "mkdir $W_DIR$NAME'/bash_scripts'\n",
    "mkdir $W_DIR$NAME'/std_out'\n",
    "\n",
    "# sbatch scripts directory, main output and standard output/error\n",
    "B_DIR=$W_DIR$NAME\"/bash_scripts/\" \n",
    "OUT_D=$W_DIR$NAME'/main_output/'\n",
    "STD_OUT=$W_DIR$NAME'/std_out/'\n",
    "\n",
    "# setup number of cores\n",
    "thr=2\n",
    "\n",
    "# setup memory\n",
    "mem=12G\n",
    "\n",
    "# setup time\n",
    "time=24:00:00\n",
    "\n",
    "# exclude nodes\n",
    "nodes=sx138,sx037,sx038\n",
    "\n",
    "# source conda env\n",
    "conda_env=\". /home/conda/miniconda3/bin/activate bracken_2.7\"\n",
    "\n",
    "#################################################################################################\n",
    "\n",
    "#iterate over input directory\n",
    "for i in $(ls -h $I_DIR); do\n",
    "# reportfile=${i//_kraken2_UHGG.out/_report_UHGG.out}\n",
    "#R2=${i//R1.fastq.gz/R2.fastq.gz}\n",
    "string=${i%%/} export string\n",
    "\t# check if .fastq.gz file\n",
    "    if [[ $string == *\"_report.out\"* ]]; then\n",
    "        arrIN=(${string//_report_UHGG.out/ })\n",
    "        echo ${arrIN[0]}\n",
    "        rm $B_DIR${arrIN[0]}\".bash\"\n",
    "        echo \"#!/bin/bash\" >> $B_DIR${arrIN[0]}\".bash\"\n",
    "        echo \"#SBATCH -p debug\" >> $B_DIR${arrIN[0]}\".bash\"\n",
    "        echo \"#SBATCH -N 1\" >> $B_DIR${arrIN[0]}\".bash\"\n",
    "        echo \"#SBATCH -n\" $thr >> $B_DIR${arrIN[0]}\".bash\"\n",
    "        echo \"#SBATCH -t\" $time >> $B_DIR${arrIN[0]}\".bash\"\n",
    "        echo \"#SBATCH --mem\" $mem >> $B_DIR${arrIN[0]}\".bash\"\n",
    "        echo \"#SBATCH --exclude=\"$nodes >> $B_DIR${arrIN[0]}\".bash\"\n",
    "        echo \"#SBATCH -o $STD_OUT${arrIN[0]}.out\" >> $B_DIR${arrIN[0]}\".bash\"\n",
    "        echo \"#SBATCH -e $STD_OUT${arrIN[0]}.err\" >> $B_DIR${arrIN[0]}\".bash\"\n",
    "        echo \"\" >> $B_DIR${arrIN[0]}\".bash\"\n",
    "        echo $conda_env >> $B_DIR${arrIN[0]}\".bash\"\n",
    "        echo \"\" >> $B_DIR${arrIN[0]}\".bash\"\n",
    "        \n",
    "        # edit command accordingly!!!!! Always add appropriate number of threads using parameter $thr\n",
    "        #echo \"metaphlan $I_DIR${arrIN[0]}.fastq --input_type fastq --output_file $OUT_D${arrIN[0]}_taxonomic_profile.tsv --samout $OUT_D${arrIN[0]}.sam --nproc $thr\" >> $B_DIR${arrIN[0]}\".bash\"\n",
    "        echo \"bracken -i $I_DIR$string -d /home/conda/int_microbiome/databases/kraken2/kraken2_db_uhgg_v2.0.1/ -o $OUT_D${arrIN[0]}_species_100_UHGG.bracken -r 100 -l S -t 10\" >> $B_DIR${arrIN[0]}\".bash\"\n",
    "        \n",
    "        # check sample.bash script before uncomenting this and submitting job\n",
    "        sbatch $B_DIR${arrIN[0]}\".bash\"\n",
    "    fi\n",
    "done"
   ]
  },
  {
   "cell_type": "code",
   "execution_count": null,
   "id": "68391ff2-d84c-4b8a-a086-e3c6261e229a",
   "metadata": {},
   "outputs": [],
   "source": []
  }
 ],
 "metadata": {
  "kernelspec": {
   "display_name": "Python 3 (ipykernel)",
   "language": "python",
   "name": "python3"
  },
  "language_info": {
   "codemirror_mode": {
    "name": "ipython",
    "version": 3
   },
   "file_extension": ".py",
   "mimetype": "text/x-python",
   "name": "python",
   "nbconvert_exporter": "python",
   "pygments_lexer": "ipython3",
   "version": "3.8.15"
  }
 },
 "nbformat": 4,
 "nbformat_minor": 5
}
